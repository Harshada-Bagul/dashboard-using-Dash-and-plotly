{
 "cells": [
  {
   "cell_type": "code",
   "execution_count": 39,
   "id": "8f088b7d",
   "metadata": {},
   "outputs": [],
   "source": [
    "import plotly.graph_objects as go\n",
    "import dash\n",
    "import dash_html_components as html\n",
    "import numpy as np\n",
    "import pandas as pd\n",
    "import dash_core_components as dcc\n",
    "import plotly.express as px\n",
    "from dash.dependencies import Input,Output\n",
    "import dash_bootstrap_components as dbc\n",
    "import plotly.offline as pyo"
   ]
  },
  {
   "cell_type": "code",
   "execution_count": 40,
   "id": "842ec065",
   "metadata": {},
   "outputs": [],
   "source": [
    "df1=pd.read_csv(\"C:\\\\Users\\\\Admin\\\\OneDrive - Brandscapes Consultancy Pvt. Ltd\\\\Desktop\\\\Unilever dataset\\\\Urban_Park_Ranger_Animal_Condition.csv\")"
   ]
  },
  {
   "cell_type": "code",
   "execution_count": 41,
   "id": "9744c9f8",
   "metadata": {},
   "outputs": [],
   "source": [
    "app=dash.Dash(__name__)"
   ]
  },
  {
   "cell_type": "code",
   "execution_count": 42,
   "id": "2264a046",
   "metadata": {},
   "outputs": [],
   "source": [
    "app.layout=html.Div([\n",
    "    html.Div([\n",
    "        html.Label(['NYC Calls for Animal Rescue']),\n",
    "        dcc.Dropdown(\n",
    "        id='my_dropdown',\n",
    "        options=[\n",
    "            {'label':'Actiopn Taken by Rabger','value':'Final Ranger Action'},\n",
    "            {'label':'Age','value':'Age'},\n",
    "            {'label':'Animal Health','value':'Animal Condition'},\n",
    "            {'label':'Borough','value':'Borough'},\n",
    "            {'label':'Species','value':'Animal Class'},\n",
    "            {'label':'Species Status','value':'Species Status'}\n",
    "        ],\n",
    "        value='Animal Class',\n",
    "        multi=False,\n",
    "        clearable=False,\n",
    "        style={'width':'50%'}),\n",
    "    ]),\n",
    "    \n",
    "    html.Div([\n",
    "        dcc.Graph(id='the_graph')\n",
    "    ]),\n",
    "])"
   ]
  },
  {
   "cell_type": "code",
   "execution_count": 43,
   "id": "77aa19a2",
   "metadata": {},
   "outputs": [
    {
     "name": "stdout",
     "output_type": "stream",
     "text": [
      "Dash is running on http://127.0.0.1:8050/\n",
      "\n",
      "Dash is running on http://127.0.0.1:8050/\n",
      "\n",
      "Dash is running on http://127.0.0.1:8050/\n",
      "\n",
      "Dash is running on http://127.0.0.1:8050/\n",
      "\n",
      "Dash is running on http://127.0.0.1:8050/\n",
      "\n",
      "Dash is running on http://127.0.0.1:8050/\n",
      "\n",
      "Dash is running on http://127.0.0.1:8050/\n",
      "\n",
      "Dash is running on http://127.0.0.1:8050/\n",
      "\n",
      " * Serving Flask app \"__main__\" (lazy loading)\n",
      " * Environment: production\n",
      "   WARNING: This is a development server. Do not use it in a production deployment.\n",
      "   Use a production WSGI server instead.\n",
      " * Debug mode: off\n"
     ]
    }
   ],
   "source": [
    "@app.callback(Output(component_id='the_graph',component_property='figure'),\n",
    "             [Input(component_id='my_dropdown',component_property='value')])\n",
    "def update_graph(my_dropdown):\n",
    "    dff=df1\n",
    "    piechart=px.pie(data_frame=dff,\n",
    "                   names=my_dropdown,\n",
    "                   hole=.3,\n",
    "                   )\n",
    "    return (piechart)\n",
    "if __name__=='__main__' :\n",
    "    app.run_server(debug=False)"
   ]
  },
  {
   "cell_type": "code",
   "execution_count": null,
   "id": "e03356d8",
   "metadata": {},
   "outputs": [],
   "source": []
  }
 ],
 "metadata": {
  "kernelspec": {
   "display_name": "Python 3",
   "language": "python",
   "name": "python3"
  },
  "language_info": {
   "codemirror_mode": {
    "name": "ipython",
    "version": 3
   },
   "file_extension": ".py",
   "mimetype": "text/x-python",
   "name": "python",
   "nbconvert_exporter": "python",
   "pygments_lexer": "ipython3",
   "version": "3.8.8"
  }
 },
 "nbformat": 4,
 "nbformat_minor": 5
}
